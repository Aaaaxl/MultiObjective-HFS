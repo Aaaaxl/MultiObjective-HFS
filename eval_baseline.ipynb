{
 "cells": [
  {
   "cell_type": "code",
   "execution_count": null,
   "id": "81eb7a82-651c-4c73-ad27-efa536c3a864",
   "metadata": {},
   "outputs": [],
   "source": [
    "import pandas as pd\n",
    "import numpy as np\n",
    "import logging\n",
    "\n",
    "from main import baseline_process\n",
    "\n",
    "from utils import set_logger\n",
    "set_logger()\n",
    "\n",
    "from utils import load_config\n",
    "arrhythmia_args = load_config(\"./config/arrhythmia_config.yaml\")\n",
    "p53_mutants_args = load_config(\"./config/p53_mutants_config.yaml\")\n",
    "breast_cancer_args = load_config(\"./config/breast_cancer_config.yaml\")"
   ]
  },
  {
   "cell_type": "code",
   "execution_count": null,
   "id": "8f7bb6b6-9bf0-4d6a-a1d0-f0192cbf590e",
   "metadata": {
    "scrolled": true
   },
   "outputs": [],
   "source": [
    "# 基线实验\n",
    "baseline_process(arrhythmia_args)"
   ]
  }
 ],
 "metadata": {
  "kernelspec": {
   "display_name": "Python 3 (ipykernel)",
   "language": "python",
   "name": "python3"
  },
  "language_info": {
   "codemirror_mode": {
    "name": "ipython",
    "version": 3
   },
   "file_extension": ".py",
   "mimetype": "text/x-python",
   "name": "python",
   "nbconvert_exporter": "python",
   "pygments_lexer": "ipython3",
   "version": "3.10.8"
  }
 },
 "nbformat": 4,
 "nbformat_minor": 5
}
