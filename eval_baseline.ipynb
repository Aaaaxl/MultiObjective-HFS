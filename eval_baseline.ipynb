{
 "cells": [
  {
   "cell_type": "code",
   "execution_count": 1,
   "id": "81eb7a82-651c-4c73-ad27-efa536c3a864",
   "metadata": {},
   "outputs": [],
   "source": [
    "import pandas as pd\n",
    "import numpy as np\n",
    "import logging\n",
    "\n",
    "from baseline_process import baseline_process"
   ]
  },
  {
   "cell_type": "code",
   "execution_count": null,
   "id": "215611de-13a9-44d2-90bd-c62037a6b562",
   "metadata": {},
   "outputs": [],
   "source": [
    "set_logger()"
   ]
  },
  {
   "cell_type": "markdown",
   "id": "8787af2b-9b8e-4140-8684-43ce4ec2c7b6",
   "metadata": {},
   "source": [
    "config.py 记录保存的各项数据路径（各数据集的路径分开保存，均包含以下几项）\n",
    "- data_path\n",
    "- importances_path\n",
    "- results_path"
   ]
  },
  {
   "cell_type": "code",
   "execution_count": null,
   "id": "392f0ac5-154d-4371-9068-0d13e6464710",
   "metadata": {},
   "outputs": [],
   "source": [
    "run_id = '5'\n",
    "data_path = arrhythmia_data_path\n",
    "importances_dir = arrhythmia_importances_path\n",
    "output_dir = arrhythmia_results_path\n",
    "cv_mode = 'kfold'\n",
    "k = 5\n",
    "feature_n_config = list(range(2, 51))\n",
    "clfs = None\n",
    "random_states = [42, 123, 256, 114514, 3407, 5132, 5134, 5122, 5106, 1163]"
   ]
  },
  {
   "cell_type": "code",
   "execution_count": null,
   "id": "8f7bb6b6-9bf0-4d6a-a1d0-f0192cbf590e",
   "metadata": {},
   "outputs": [],
   "source": [
    "# test\n",
    "baseline_process(run_id, data_path, output_dir, importances_dir,\n",
    "                 cv_mode, k, feature_n_config, clfs, random_states)"
   ]
  }
 ],
 "metadata": {
  "kernelspec": {
   "display_name": "Python 3 (ipykernel)",
   "language": "python",
   "name": "python3"
  },
  "language_info": {
   "codemirror_mode": {
    "name": "ipython",
    "version": 3
   },
   "file_extension": ".py",
   "mimetype": "text/x-python",
   "name": "python",
   "nbconvert_exporter": "python",
   "pygments_lexer": "ipython3",
   "version": "3.10.8"
  }
 },
 "nbformat": 4,
 "nbformat_minor": 5
}
