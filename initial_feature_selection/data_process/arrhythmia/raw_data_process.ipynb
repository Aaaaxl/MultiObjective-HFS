{
 "cells": [
  {
   "cell_type": "code",
   "execution_count": 1,
   "id": "6da87b05-012d-45f6-971d-12b61dce1bc7",
   "metadata": {},
   "outputs": [],
   "source": [
    "import pandas as pd\n",
    "import numpy as np\n",
    "import os\n",
    "import sys"
   ]
  },
  {
   "cell_type": "code",
   "execution_count": 2,
   "id": "2f6afe60-11c7-42e0-8472-622e0dd4128e",
   "metadata": {},
   "outputs": [],
   "source": [
    "def add_project_root_to_sys_path(target_file=\"config.py\"):\n",
    "    current_path = os.getcwd()\n",
    "    while True:\n",
    "        if target_file in os.listdir(current_path):\n",
    "            # 找到包含 config.py 的目录，加入 sys.path\n",
    "            if current_path not in sys.path:\n",
    "                sys.path.append(current_path)\n",
    "            break\n",
    "        else:\n",
    "            # 向上一级目录查找\n",
    "            parent_path = os.path.dirname(current_path)\n",
    "            if parent_path == current_path:\n",
    "                # 到达根目录还没找到，停止\n",
    "                raise FileNotFoundError(f\"未找到包含 {target_file} 的目录\")\n",
    "            current_path = parent_path\n",
    "\n",
    "add_project_root_to_sys_path()"
   ]
  },
  {
   "cell_type": "code",
   "execution_count": 3,
   "id": "88e5d296-3e2d-4a70-acaa-cb5daf5bd829",
   "metadata": {},
   "outputs": [],
   "source": [
    "from config import arrhythmia_raw_data_path, arrhythmia_data_path"
   ]
  },
  {
   "cell_type": "code",
   "execution_count": 4,
   "id": "d334e0db-13cd-4aa2-9bd6-c4ccd74c6e5f",
   "metadata": {},
   "outputs": [],
   "source": [
    "data_path = arrhythmia_raw_data_path"
   ]
  },
  {
   "cell_type": "code",
   "execution_count": 5,
   "id": "8f5ea9bd-9b31-43f7-aed3-e711f68af65d",
   "metadata": {},
   "outputs": [],
   "source": [
    "def list_folder_contents(folder_path):\n",
    "    try:\n",
    "        items = os.listdir(folder_path)\n",
    "        print(f\"文件夹 '{folder_path}' 下的内容：\")\n",
    "        for item in items:\n",
    "            print(item)\n",
    "    except FileNotFoundError:\n",
    "        print(f\"文件夹 '{folder_path}' 不存在！\")"
   ]
  },
  {
   "cell_type": "code",
   "execution_count": 6,
   "id": "efc3d4fb-fcba-4769-9291-0cf172dfbcad",
   "metadata": {},
   "outputs": [
    {
     "name": "stdout",
     "output_type": "stream",
     "text": [
      "文件夹 'C:\\Users\\26494\\PycharmProjects\\MOO-HFS\\dataset\\Arrhythmia' 下的内容：\n",
      "arrhythmia.data\n",
      "arrhythmia.names\n"
     ]
    }
   ],
   "source": [
    "list_folder_contents(data_path)"
   ]
  },
  {
   "cell_type": "code",
   "execution_count": 7,
   "id": "b4f2f53e-e8ca-4bff-8277-78f7ca484eed",
   "metadata": {},
   "outputs": [],
   "source": [
    "# 读取数据\n",
    "df = pd.read_csv(os.path.join(data_path, \"arrhythmia.data\"), header=None, na_values='?')"
   ]
  },
  {
   "cell_type": "code",
   "execution_count": 8,
   "id": "af872b64-b0a7-4519-9eb4-017ff48d4e21",
   "metadata": {},
   "outputs": [],
   "source": [
    "# 特征列命名\n",
    "num_features = df.shape[1] - 1\n",
    "feature_names = [f'{i+1}' for i in range(num_features)] + ['Class']\n",
    "\n",
    "df.columns = feature_names\n",
    "\n",
    "# 把类别列移到第一列\n",
    "cols = ['Class'] + [col for col in df.columns if col != 'Class']\n",
    "df = df[cols]"
   ]
  },
  {
   "cell_type": "code",
   "execution_count": 9,
   "id": "7ac11c9a-550f-442a-a4c0-27c7aa375ddc",
   "metadata": {},
   "outputs": [],
   "source": [
    "# 筛选的类别\n",
    "selected_classes = [1, 10, 2, 6, 16, 3, 4, 5, 9]"
   ]
  },
  {
   "cell_type": "code",
   "execution_count": 10,
   "id": "cda183f2-f11a-4bd1-b673-460779c95365",
   "metadata": {},
   "outputs": [
    {
     "name": "stdout",
     "output_type": "stream",
     "text": [
      "筛选后数据大小：(438, 280)\n",
      "Class\n",
      "1     245\n",
      "2      44\n",
      "3      15\n",
      "4      15\n",
      "5      13\n",
      "6      25\n",
      "9       9\n",
      "10     50\n",
      "16     22\n",
      "Name: count, dtype: int64\n"
     ]
    }
   ],
   "source": [
    "# 筛选\n",
    "df_filtered = df[df['Class'].isin(selected_classes)]\n",
    "\n",
    "print(f\"筛选后数据大小：{df_filtered.shape}\")\n",
    "print(df_filtered['Class'].value_counts().sort_index())"
   ]
  },
  {
   "cell_type": "code",
   "execution_count": 11,
   "id": "5566ccd5-620a-4663-a231-00da84015732",
   "metadata": {},
   "outputs": [
    {
     "data": {
      "text/html": [
       "<div>\n",
       "<style scoped>\n",
       "    .dataframe tbody tr th:only-of-type {\n",
       "        vertical-align: middle;\n",
       "    }\n",
       "\n",
       "    .dataframe tbody tr th {\n",
       "        vertical-align: top;\n",
       "    }\n",
       "\n",
       "    .dataframe thead th {\n",
       "        text-align: right;\n",
       "    }\n",
       "</style>\n",
       "<table border=\"1\" class=\"dataframe\">\n",
       "  <thead>\n",
       "    <tr style=\"text-align: right;\">\n",
       "      <th></th>\n",
       "      <th>Class</th>\n",
       "      <th>1</th>\n",
       "      <th>2</th>\n",
       "      <th>3</th>\n",
       "      <th>4</th>\n",
       "      <th>5</th>\n",
       "      <th>6</th>\n",
       "      <th>7</th>\n",
       "      <th>8</th>\n",
       "      <th>9</th>\n",
       "      <th>...</th>\n",
       "      <th>270</th>\n",
       "      <th>271</th>\n",
       "      <th>272</th>\n",
       "      <th>273</th>\n",
       "      <th>274</th>\n",
       "      <th>275</th>\n",
       "      <th>276</th>\n",
       "      <th>277</th>\n",
       "      <th>278</th>\n",
       "      <th>279</th>\n",
       "    </tr>\n",
       "  </thead>\n",
       "  <tbody>\n",
       "    <tr>\n",
       "      <th>1</th>\n",
       "      <td>6</td>\n",
       "      <td>56</td>\n",
       "      <td>1</td>\n",
       "      <td>165</td>\n",
       "      <td>64</td>\n",
       "      <td>81</td>\n",
       "      <td>174</td>\n",
       "      <td>401</td>\n",
       "      <td>149</td>\n",
       "      <td>39</td>\n",
       "      <td>...</td>\n",
       "      <td>-0.5</td>\n",
       "      <td>0.0</td>\n",
       "      <td>8.5</td>\n",
       "      <td>0.0</td>\n",
       "      <td>0.0</td>\n",
       "      <td>0.0</td>\n",
       "      <td>0.2</td>\n",
       "      <td>2.1</td>\n",
       "      <td>20.4</td>\n",
       "      <td>38.8</td>\n",
       "    </tr>\n",
       "    <tr>\n",
       "      <th>2</th>\n",
       "      <td>10</td>\n",
       "      <td>54</td>\n",
       "      <td>0</td>\n",
       "      <td>172</td>\n",
       "      <td>95</td>\n",
       "      <td>138</td>\n",
       "      <td>163</td>\n",
       "      <td>386</td>\n",
       "      <td>185</td>\n",
       "      <td>102</td>\n",
       "      <td>...</td>\n",
       "      <td>0.9</td>\n",
       "      <td>0.0</td>\n",
       "      <td>9.5</td>\n",
       "      <td>-2.4</td>\n",
       "      <td>0.0</td>\n",
       "      <td>0.0</td>\n",
       "      <td>0.3</td>\n",
       "      <td>3.4</td>\n",
       "      <td>12.3</td>\n",
       "      <td>49.0</td>\n",
       "    </tr>\n",
       "    <tr>\n",
       "      <th>3</th>\n",
       "      <td>1</td>\n",
       "      <td>55</td>\n",
       "      <td>0</td>\n",
       "      <td>175</td>\n",
       "      <td>94</td>\n",
       "      <td>100</td>\n",
       "      <td>202</td>\n",
       "      <td>380</td>\n",
       "      <td>179</td>\n",
       "      <td>143</td>\n",
       "      <td>...</td>\n",
       "      <td>0.1</td>\n",
       "      <td>0.0</td>\n",
       "      <td>12.2</td>\n",
       "      <td>-2.2</td>\n",
       "      <td>0.0</td>\n",
       "      <td>0.0</td>\n",
       "      <td>0.4</td>\n",
       "      <td>2.6</td>\n",
       "      <td>34.6</td>\n",
       "      <td>61.6</td>\n",
       "    </tr>\n",
       "    <tr>\n",
       "      <th>6</th>\n",
       "      <td>1</td>\n",
       "      <td>40</td>\n",
       "      <td>1</td>\n",
       "      <td>160</td>\n",
       "      <td>52</td>\n",
       "      <td>77</td>\n",
       "      <td>129</td>\n",
       "      <td>377</td>\n",
       "      <td>133</td>\n",
       "      <td>77</td>\n",
       "      <td>...</td>\n",
       "      <td>-0.4</td>\n",
       "      <td>0.0</td>\n",
       "      <td>6.5</td>\n",
       "      <td>0.0</td>\n",
       "      <td>0.0</td>\n",
       "      <td>0.0</td>\n",
       "      <td>0.4</td>\n",
       "      <td>1.0</td>\n",
       "      <td>14.3</td>\n",
       "      <td>20.5</td>\n",
       "    </tr>\n",
       "    <tr>\n",
       "      <th>7</th>\n",
       "      <td>1</td>\n",
       "      <td>49</td>\n",
       "      <td>1</td>\n",
       "      <td>162</td>\n",
       "      <td>54</td>\n",
       "      <td>78</td>\n",
       "      <td>0</td>\n",
       "      <td>376</td>\n",
       "      <td>157</td>\n",
       "      <td>70</td>\n",
       "      <td>...</td>\n",
       "      <td>-0.3</td>\n",
       "      <td>0.0</td>\n",
       "      <td>8.2</td>\n",
       "      <td>-1.9</td>\n",
       "      <td>0.0</td>\n",
       "      <td>0.0</td>\n",
       "      <td>0.1</td>\n",
       "      <td>0.5</td>\n",
       "      <td>15.8</td>\n",
       "      <td>19.8</td>\n",
       "    </tr>\n",
       "  </tbody>\n",
       "</table>\n",
       "<p>5 rows × 280 columns</p>\n",
       "</div>"
      ],
      "text/plain": [
       "   Class   1  2    3   4    5    6    7    8    9  ...  270  271   272  273  \\\n",
       "1      6  56  1  165  64   81  174  401  149   39  ... -0.5  0.0   8.5  0.0   \n",
       "2     10  54  0  172  95  138  163  386  185  102  ...  0.9  0.0   9.5 -2.4   \n",
       "3      1  55  0  175  94  100  202  380  179  143  ...  0.1  0.0  12.2 -2.2   \n",
       "6      1  40  1  160  52   77  129  377  133   77  ... -0.4  0.0   6.5  0.0   \n",
       "7      1  49  1  162  54   78    0  376  157   70  ... -0.3  0.0   8.2 -1.9   \n",
       "\n",
       "   274  275  276  277   278   279  \n",
       "1  0.0  0.0  0.2  2.1  20.4  38.8  \n",
       "2  0.0  0.0  0.3  3.4  12.3  49.0  \n",
       "3  0.0  0.0  0.4  2.6  34.6  61.6  \n",
       "6  0.0  0.0  0.4  1.0  14.3  20.5  \n",
       "7  0.0  0.0  0.1  0.5  15.8  19.8  \n",
       "\n",
       "[5 rows x 280 columns]"
      ]
     },
     "execution_count": 11,
     "metadata": {},
     "output_type": "execute_result"
    }
   ],
   "source": [
    "df_filtered.head()"
   ]
  },
  {
   "cell_type": "code",
   "execution_count": 12,
   "id": "c23870ad-ccae-4556-8c2d-9e0a068b0587",
   "metadata": {},
   "outputs": [],
   "source": [
    "# df_filtered.to_csv('Arrhythmia_raw.csv', index=False)\n",
    "data = df_filtered.copy()"
   ]
  },
  {
   "cell_type": "code",
   "execution_count": 13,
   "id": "2d35a8b8-c26c-4cb1-8441-77cb3e3faab6",
   "metadata": {},
   "outputs": [
    {
     "name": "stdout",
     "output_type": "stream",
     "text": [
      "       MissingCount  MissingRatio\n",
      "14              367      0.837900\n",
      "12               17      0.038813\n",
      "11                8      0.018265\n",
      "13                1      0.002283\n",
      "Class             0      0.000000\n",
      "192               0      0.000000\n",
      "191               0      0.000000\n",
      "190               0      0.000000\n",
      "189               0      0.000000\n",
      "188               0      0.000000\n",
      "187               0      0.000000\n",
      "194               0      0.000000\n",
      "186               0      0.000000\n",
      "185               0      0.000000\n",
      "184               0      0.000000\n",
      "183               0      0.000000\n",
      "182               0      0.000000\n",
      "181               0      0.000000\n",
      "180               0      0.000000\n",
      "179               0      0.000000\n"
     ]
    }
   ],
   "source": [
    "# 缺失值统计\n",
    "missing_count = data.isna().sum()\n",
    "missing_ratio = missing_count / len(data)\n",
    "\n",
    "missing_df = pd.DataFrame({\n",
    "    'MissingCount': missing_count,\n",
    "    'MissingRatio': missing_ratio\n",
    "}).sort_values(by='MissingCount', ascending=False)\n",
    "\n",
    "print(missing_df.head(20))  # 显示缺失最多的前20列"
   ]
  },
  {
   "cell_type": "code",
   "execution_count": 14,
   "id": "43386bbf-382b-4778-9105-341298da4483",
   "metadata": {},
   "outputs": [],
   "source": [
    "# 删除缺失比例高的列\n",
    "data.drop(columns=['14'], inplace=True)"
   ]
  },
  {
   "cell_type": "code",
   "execution_count": 15,
   "id": "223e0f76-3e3e-410a-a554-600ae5381038",
   "metadata": {},
   "outputs": [],
   "source": [
    "# 有缺失值的列\n",
    "cols_to_impute = ['12', '11', '13']"
   ]
  },
  {
   "cell_type": "code",
   "execution_count": 21,
   "id": "75a472cc-c4d6-4732-8f5c-c1e0cba6672a",
   "metadata": {},
   "outputs": [
    {
     "name": "stdout",
     "output_type": "stream",
     "text": [
      "12    0\n",
      "11    0\n",
      "13    0\n",
      "dtype: int64\n"
     ]
    }
   ],
   "source": [
    "df_group_imputed = data.copy()\n",
    "\n",
    "for col in cols_to_impute:\n",
    "    # 计算每个类别该列的均值（忽略缺失）\n",
    "    class_means = df_group_imputed.groupby('Class')[col].transform('mean')\n",
    "    \n",
    "    # 对缺失的用对应类别均值填充\n",
    "    missing_mask = df_group_imputed[col].isna()\n",
    "    df_group_imputed.loc[missing_mask, col] = class_means[missing_mask]\n",
    "\n",
    "print(df_group_imputed[cols_to_impute].isna().sum())  # 确认缺失是否填完"
   ]
  },
  {
   "cell_type": "code",
   "execution_count": 24,
   "id": "72236ca1-fc6a-4f5a-9468-a200a8ed5d2a",
   "metadata": {},
   "outputs": [
    {
     "name": "stdout",
     "output_type": "stream",
     "text": [
      "下列列在所有数据中完全相同:\n",
      "['20', '68', '70', '84', '132', '133', '140', '142', '144', '146', '152', '157', '158', '165', '205', '265', '275']\n"
     ]
    }
   ],
   "source": [
    "# 假设你的DataFrame名字是df\n",
    "constant_cols = []\n",
    "for col in df_group_imputed.columns:\n",
    "    unique_vals = df_group_imputed[col].unique()\n",
    "    if len(unique_vals) <= 1:\n",
    "        constant_cols.append(col)\n",
    "\n",
    "print(\"下面的列列在所有数据中完全相同:\")\n",
    "print(constant_cols)"
   ]
  },
  {
   "cell_type": "code",
   "execution_count": 25,
   "id": "0e6611be-2964-4de6-a200-0f0d56f50b62",
   "metadata": {},
   "outputs": [],
   "source": [
    "df_group_imputed = df_group_imputed.drop(columns=constant_cols)"
   ]
  },
  {
   "cell_type": "code",
   "execution_count": 27,
   "id": "495197db-d161-416c-a9f9-23a4dc7dafab",
   "metadata": {},
   "outputs": [
    {
     "name": "stdout",
     "output_type": "stream",
     "text": [
      "Class\n",
      "1     245\n",
      "2      44\n",
      "3      15\n",
      "4      15\n",
      "5      13\n",
      "6      25\n",
      "9       9\n",
      "10     50\n",
      "16     22\n",
      "Name: count, dtype: int64\n"
     ]
    }
   ],
   "source": [
    "# 筛选\n",
    "print(df_group_imputed['Class'].value_counts().sort_index())"
   ]
  },
  {
   "cell_type": "code",
   "execution_count": 28,
   "id": "f087e70d-0c22-4976-a453-70937f64fe16",
   "metadata": {},
   "outputs": [
    {
     "name": "stdout",
     "output_type": "stream",
     "text": [
      "(438, 262)\n"
     ]
    }
   ],
   "source": [
    "print(df_group_imputed.shape)"
   ]
  },
  {
   "cell_type": "code",
   "execution_count": 29,
   "id": "bd2a12ba-ce23-4c0b-9845-4c78cce68fef",
   "metadata": {},
   "outputs": [],
   "source": [
    "df_group_imputed.to_csv(arrhythmia_data_path, index=False)"
   ]
  },
  {
   "cell_type": "code",
   "execution_count": null,
   "id": "43cb663f-fdbc-4014-aaae-ae299020e68c",
   "metadata": {},
   "outputs": [],
   "source": []
  }
 ],
 "metadata": {
  "kernelspec": {
   "display_name": "Python 3 (ipykernel)",
   "language": "python",
   "name": "python3"
  },
  "language_info": {
   "codemirror_mode": {
    "name": "ipython",
    "version": 3
   },
   "file_extension": ".py",
   "mimetype": "text/x-python",
   "name": "python",
   "nbconvert_exporter": "python",
   "pygments_lexer": "ipython3",
   "version": "3.12.7"
  }
 },
 "nbformat": 4,
 "nbformat_minor": 5
}
