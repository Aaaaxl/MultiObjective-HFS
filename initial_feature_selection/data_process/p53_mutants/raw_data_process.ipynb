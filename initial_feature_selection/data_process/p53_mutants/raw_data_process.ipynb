{
 "cells": [
  {
   "cell_type": "code",
   "execution_count": 1,
   "id": "b07d82ac-7d85-4951-9ec8-36f4289dc680",
   "metadata": {},
   "outputs": [],
   "source": [
    "import pandas as pd\n",
    "import numpy as np\n",
    "import sys\n",
    "import os"
   ]
  },
  {
   "cell_type": "code",
   "execution_count": 2,
   "id": "3e8047ef-d3b8-4086-bb38-28f023bb307f",
   "metadata": {},
   "outputs": [],
   "source": [
    "def add_project_root_to_sys_path(target_file=\"config.py\"):\n",
    "    current_path = os.getcwd()\n",
    "    while True:\n",
    "        if target_file in os.listdir(current_path):\n",
    "            # 找到包含 config.py 的目录，加入 sys.path\n",
    "            if current_path not in sys.path:\n",
    "                sys.path.append(current_path)\n",
    "            break\n",
    "        else:\n",
    "            # 向上一级目录查找\n",
    "            parent_path = os.path.dirname(current_path)\n",
    "            if parent_path == current_path:\n",
    "                # 到达根目录还没找到，停止\n",
    "                raise FileNotFoundError(f\"未找到包含 {target_file} 的目录\")\n",
    "            current_path = parent_path\n",
    "\n",
    "add_project_root_to_sys_path()"
   ]
  },
  {
   "cell_type": "code",
   "execution_count": 3,
   "id": "f7ca2487-7d61-4767-b3c6-81d57e745cf4",
   "metadata": {},
   "outputs": [
    {
     "name": "stderr",
     "output_type": "stream",
     "text": [
      "C:\\Users\\26494\\GA\\config.py:35: SyntaxWarning: invalid escape sequence '\\A'\n",
      "  arrhythmia_data_path = os.path.join(DATA_DIR, 'Arrhythmia\\Arrhythmia.csv')\n"
     ]
    }
   ],
   "source": [
    "from config import p53_raw_data_path, p53_data_path\n",
    "# 使用 p53_Mutants 原始数据得到数据"
   ]
  },
  {
   "cell_type": "code",
   "execution_count": 4,
   "id": "563f1487-7508-4a4c-97a0-77064b8d8d5b",
   "metadata": {},
   "outputs": [],
   "source": [
    "raw_data_path = p53_raw_data_path"
   ]
  },
  {
   "cell_type": "code",
   "execution_count": 5,
   "id": "95000626-03f0-4577-9809-208a8f0369cc",
   "metadata": {},
   "outputs": [],
   "source": [
    "def list_folder_contents(folder_path):\n",
    "    try:\n",
    "        items = os.listdir(folder_path)\n",
    "        print(f\"文件夹 '{folder_path}' 下的内容：\")\n",
    "        for item in items:\n",
    "            print(item)\n",
    "    except FileNotFoundError:\n",
    "        print(f\"文件夹 '{folder_path}' 不存在！\")"
   ]
  },
  {
   "cell_type": "code",
   "execution_count": 6,
   "id": "5717d67b-7b72-4e61-a996-154531a14ed3",
   "metadata": {},
   "outputs": [
    {
     "name": "stdout",
     "output_type": "stream",
     "text": [
      "文件夹 'C:\\Users\\26494\\PycharmProjects\\MOO-HFS\\dataset\\p53_Mutants\\p53_old_2010' 下的内容：\n",
      "K1.def\n",
      "K2.def\n",
      "K3.def\n",
      "K4.def\n",
      "K5.def\n",
      "K6.def\n",
      "K7.def\n",
      "K8.data\n",
      "K8.def\n",
      "K8.instance.tags\n",
      "p53.names\n",
      "p53_mutants_merged.csv\n"
     ]
    }
   ],
   "source": [
    "list_folder_contents(raw_data_path)"
   ]
  },
  {
   "cell_type": "code",
   "execution_count": 7,
   "id": "e862f678-980e-407a-b66f-071c95768211",
   "metadata": {},
   "outputs": [],
   "source": [
    "# 数据文件路径\n",
    "data_file = os.path.join(raw_data_path, 'K8.data')"
   ]
  },
  {
   "cell_type": "code",
   "execution_count": 43,
   "id": "e1683776-0666-4a64-8a10-7d00a7bdbe59",
   "metadata": {},
   "outputs": [],
   "source": [
    "# 读取数据矩阵，分类标签 (active/inactive)\n",
    "data = pd.read_csv(data_file, header=None, sep=',', dtype=str)"
   ]
  },
  {
   "cell_type": "code",
   "execution_count": 44,
   "id": "a05fc138-685c-4326-89e1-7fffdd99ae00",
   "metadata": {},
   "outputs": [
    {
     "name": "stdout",
     "output_type": "stream",
     "text": [
      "数据维度: (16772, 5410)\n",
      "列名：5408\n",
      "前20个样本的数据：\n",
      "0     inactive\n",
      "1     inactive\n",
      "2     inactive\n",
      "3     inactive\n",
      "4     inactive\n",
      "5     inactive\n",
      "6     inactive\n",
      "7     inactive\n",
      "8     inactive\n",
      "9     inactive\n",
      "10    inactive\n",
      "11    inactive\n",
      "12    inactive\n",
      "13    inactive\n",
      "14    inactive\n",
      "15    inactive\n",
      "16    inactive\n",
      "17      active\n",
      "18      active\n",
      "19      active\n",
      "Name: 5408, dtype: object\n",
      "\n",
      "唯一值统计：\n",
      "5408\n",
      "inactive    16629\n",
      "active        143\n",
      "Name: count, dtype: int64\n"
     ]
    }
   ],
   "source": [
    "print(f\"数据维度: {data.shape}\")\n",
    "last_col = data.columns[-2]\n",
    "print(f\"列名：{last_col}\")\n",
    "print(\"前20个样本的数据：\")\n",
    "print(data[last_col].head(20))\n",
    "print(\"\\n唯一值统计：\")\n",
    "print(data[last_col].value_counts(dropna=False))"
   ]
  },
  {
   "cell_type": "code",
   "execution_count": 45,
   "id": "d1eb9796-1ab1-4ec9-902e-f174f034b8b2",
   "metadata": {},
   "outputs": [],
   "source": [
    "# 特征列命名\n",
    "num_features = data.shape[1] - 2\n",
    "feature_names = [f'{i+1}' for i in range(num_features)] + ['Class'] + [f'{num_features+1}']\n",
    "\n",
    "data.columns = feature_names\n",
    "\n",
    "# 移到第一列\n",
    "cols = list(data.columns)\n",
    "cols.remove('Class')\n",
    "new_cols = ['Class'] + cols\n",
    "data = data[new_cols]"
   ]
  },
  {
   "cell_type": "code",
   "execution_count": 46,
   "id": "719bb2b3-9b8f-41a3-a39d-e0269ea00b9a",
   "metadata": {},
   "outputs": [
    {
     "data": {
      "text/html": [
       "<div>\n",
       "<style scoped>\n",
       "    .dataframe tbody tr th:only-of-type {\n",
       "        vertical-align: middle;\n",
       "    }\n",
       "\n",
       "    .dataframe tbody tr th {\n",
       "        vertical-align: top;\n",
       "    }\n",
       "\n",
       "    .dataframe thead th {\n",
       "        text-align: right;\n",
       "    }\n",
       "</style>\n",
       "<table border=\"1\" class=\"dataframe\">\n",
       "  <thead>\n",
       "    <tr style=\"text-align: right;\">\n",
       "      <th></th>\n",
       "      <th>Class</th>\n",
       "      <th>1</th>\n",
       "      <th>2</th>\n",
       "      <th>3</th>\n",
       "      <th>4</th>\n",
       "      <th>5</th>\n",
       "      <th>6</th>\n",
       "      <th>7</th>\n",
       "      <th>8</th>\n",
       "      <th>9</th>\n",
       "      <th>...</th>\n",
       "      <th>5400</th>\n",
       "      <th>5401</th>\n",
       "      <th>5402</th>\n",
       "      <th>5403</th>\n",
       "      <th>5404</th>\n",
       "      <th>5405</th>\n",
       "      <th>5406</th>\n",
       "      <th>5407</th>\n",
       "      <th>5408</th>\n",
       "      <th>5409</th>\n",
       "    </tr>\n",
       "  </thead>\n",
       "  <tbody>\n",
       "    <tr>\n",
       "      <th>0</th>\n",
       "      <td>inactive</td>\n",
       "      <td>-0.161</td>\n",
       "      <td>-0.014</td>\n",
       "      <td>0.002</td>\n",
       "      <td>-0.036</td>\n",
       "      <td>-0.033</td>\n",
       "      <td>-0.093</td>\n",
       "      <td>0.025</td>\n",
       "      <td>0.005</td>\n",
       "      <td>0.000</td>\n",
       "      <td>...</td>\n",
       "      <td>0.006</td>\n",
       "      <td>0.013</td>\n",
       "      <td>0.021</td>\n",
       "      <td>0.020</td>\n",
       "      <td>0.016</td>\n",
       "      <td>-0.011</td>\n",
       "      <td>0.003</td>\n",
       "      <td>0.010</td>\n",
       "      <td>-0.007</td>\n",
       "      <td>NaN</td>\n",
       "    </tr>\n",
       "    <tr>\n",
       "      <th>1</th>\n",
       "      <td>inactive</td>\n",
       "      <td>-0.158</td>\n",
       "      <td>-0.002</td>\n",
       "      <td>-0.012</td>\n",
       "      <td>-0.025</td>\n",
       "      <td>-0.012</td>\n",
       "      <td>-0.106</td>\n",
       "      <td>0.013</td>\n",
       "      <td>0.005</td>\n",
       "      <td>0.000</td>\n",
       "      <td>...</td>\n",
       "      <td>0.002</td>\n",
       "      <td>-0.008</td>\n",
       "      <td>0.007</td>\n",
       "      <td>0.015</td>\n",
       "      <td>-0.008</td>\n",
       "      <td>-0.011</td>\n",
       "      <td>-0.004</td>\n",
       "      <td>0.013</td>\n",
       "      <td>0.005</td>\n",
       "      <td>NaN</td>\n",
       "    </tr>\n",
       "    <tr>\n",
       "      <th>2</th>\n",
       "      <td>inactive</td>\n",
       "      <td>NaN</td>\n",
       "      <td>NaN</td>\n",
       "      <td>NaN</td>\n",
       "      <td>NaN</td>\n",
       "      <td>NaN</td>\n",
       "      <td>NaN</td>\n",
       "      <td>NaN</td>\n",
       "      <td>NaN</td>\n",
       "      <td>NaN</td>\n",
       "      <td>...</td>\n",
       "      <td>NaN</td>\n",
       "      <td>NaN</td>\n",
       "      <td>NaN</td>\n",
       "      <td>NaN</td>\n",
       "      <td>NaN</td>\n",
       "      <td>NaN</td>\n",
       "      <td>NaN</td>\n",
       "      <td>NaN</td>\n",
       "      <td>NaN</td>\n",
       "      <td>NaN</td>\n",
       "    </tr>\n",
       "    <tr>\n",
       "      <th>3</th>\n",
       "      <td>inactive</td>\n",
       "      <td>-0.169</td>\n",
       "      <td>-0.025</td>\n",
       "      <td>-0.010</td>\n",
       "      <td>-0.041</td>\n",
       "      <td>-0.045</td>\n",
       "      <td>-0.069</td>\n",
       "      <td>0.038</td>\n",
       "      <td>0.014</td>\n",
       "      <td>0.008</td>\n",
       "      <td>...</td>\n",
       "      <td>0.019</td>\n",
       "      <td>0.010</td>\n",
       "      <td>0.025</td>\n",
       "      <td>0.025</td>\n",
       "      <td>0.021</td>\n",
       "      <td>-0.012</td>\n",
       "      <td>0.006</td>\n",
       "      <td>0.016</td>\n",
       "      <td>-0.018</td>\n",
       "      <td>NaN</td>\n",
       "    </tr>\n",
       "    <tr>\n",
       "      <th>4</th>\n",
       "      <td>inactive</td>\n",
       "      <td>-0.183</td>\n",
       "      <td>-0.051</td>\n",
       "      <td>-0.023</td>\n",
       "      <td>-0.077</td>\n",
       "      <td>-0.092</td>\n",
       "      <td>-0.015</td>\n",
       "      <td>0.071</td>\n",
       "      <td>0.027</td>\n",
       "      <td>0.020</td>\n",
       "      <td>...</td>\n",
       "      <td>0.051</td>\n",
       "      <td>0.012</td>\n",
       "      <td>0.050</td>\n",
       "      <td>0.038</td>\n",
       "      <td>0.051</td>\n",
       "      <td>-0.015</td>\n",
       "      <td>0.017</td>\n",
       "      <td>0.027</td>\n",
       "      <td>-0.049</td>\n",
       "      <td>NaN</td>\n",
       "    </tr>\n",
       "  </tbody>\n",
       "</table>\n",
       "<p>5 rows × 5410 columns</p>\n",
       "</div>"
      ],
      "text/plain": [
       "      Class      1      2      3      4      5      6      7      8      9  \\\n",
       "0  inactive -0.161 -0.014  0.002 -0.036 -0.033 -0.093  0.025  0.005  0.000   \n",
       "1  inactive -0.158 -0.002 -0.012 -0.025 -0.012 -0.106  0.013  0.005  0.000   \n",
       "2  inactive    NaN    NaN    NaN    NaN    NaN    NaN    NaN    NaN    NaN   \n",
       "3  inactive -0.169 -0.025 -0.010 -0.041 -0.045 -0.069  0.038  0.014  0.008   \n",
       "4  inactive -0.183 -0.051 -0.023 -0.077 -0.092 -0.015  0.071  0.027  0.020   \n",
       "\n",
       "   ...   5400   5401   5402   5403   5404   5405   5406   5407   5408  5409  \n",
       "0  ...  0.006  0.013  0.021  0.020  0.016 -0.011  0.003  0.010 -0.007   NaN  \n",
       "1  ...  0.002 -0.008  0.007  0.015 -0.008 -0.011 -0.004  0.013  0.005   NaN  \n",
       "2  ...    NaN    NaN    NaN    NaN    NaN    NaN    NaN    NaN    NaN   NaN  \n",
       "3  ...  0.019  0.010  0.025  0.025  0.021 -0.012  0.006  0.016 -0.018   NaN  \n",
       "4  ...  0.051  0.012  0.050  0.038  0.051 -0.015  0.017  0.027 -0.049   NaN  \n",
       "\n",
       "[5 rows x 5410 columns]"
      ]
     },
     "execution_count": 46,
     "metadata": {},
     "output_type": "execute_result"
    }
   ],
   "source": [
    "for col in cols:\n",
    "    data[col] = pd.to_numeric(data[col], errors='coerce')\n",
    "\n",
    "data.head()"
   ]
  },
  {
   "cell_type": "code",
   "execution_count": 47,
   "id": "475d04f2-7544-459a-a043-df89be83f7e1",
   "metadata": {},
   "outputs": [
    {
     "name": "stdout",
     "output_type": "stream",
     "text": [
      "      MissingCount  MissingRatio\n",
      "5409         16772      1.000000\n",
      "3225           180      0.010732\n",
      "3223           180      0.010732\n",
      "3222           180      0.010732\n",
      "3221           180      0.010732\n",
      "3220           180      0.010732\n",
      "3219           180      0.010732\n",
      "3218           180      0.010732\n",
      "3217           180      0.010732\n",
      "3216           180      0.010732\n"
     ]
    }
   ],
   "source": [
    "# 缺失值统计\n",
    "missing_count = data.isna().sum()\n",
    "missing_ratio = missing_count / len(data)\n",
    "\n",
    "missing_df = pd.DataFrame({\n",
    "    'MissingCount': missing_count,\n",
    "    'MissingRatio': missing_ratio\n",
    "}).sort_values(by='MissingCount', ascending=False)\n",
    "\n",
    "print(missing_df.head(10))  # 显示缺失最多的前10列"
   ]
  },
  {
   "cell_type": "code",
   "execution_count": 48,
   "id": "3e42a1a9-7492-4bc0-8b3a-d77550c9c67f",
   "metadata": {},
   "outputs": [],
   "source": [
    "# 删除缺失比例高的列\n",
    "data.drop(columns=['5409'], inplace=True)"
   ]
  },
  {
   "cell_type": "code",
   "execution_count": 49,
   "id": "db20c11e-dd65-4f9d-9c1e-753a6f9b9830",
   "metadata": {},
   "outputs": [
    {
     "name": "stdout",
     "output_type": "stream",
     "text": [
      "          Class   1   2   3   4   5   6   7   8   9  ...   5399   5400   5401  \\\n",
      "2      inactive NaN NaN NaN NaN NaN NaN NaN NaN NaN  ...    NaN    NaN    NaN   \n",
      "16     inactive NaN NaN NaN NaN NaN NaN NaN NaN NaN  ...  0.001 -0.018 -0.014   \n",
      "187    inactive NaN NaN NaN NaN NaN NaN NaN NaN NaN  ... -0.002 -0.013 -0.011   \n",
      "189    inactive NaN NaN NaN NaN NaN NaN NaN NaN NaN  ... -0.011  0.005  0.021   \n",
      "191    inactive NaN NaN NaN NaN NaN NaN NaN NaN NaN  ...  0.004 -0.029 -0.024   \n",
      "...         ...  ..  ..  ..  ..  ..  ..  ..  ..  ..  ...    ...    ...    ...   \n",
      "15371  inactive NaN NaN NaN NaN NaN NaN NaN NaN NaN  ...    NaN    NaN    NaN   \n",
      "15372  inactive NaN NaN NaN NaN NaN NaN NaN NaN NaN  ...    NaN    NaN    NaN   \n",
      "15373  inactive NaN NaN NaN NaN NaN NaN NaN NaN NaN  ...    NaN    NaN    NaN   \n",
      "15374  inactive NaN NaN NaN NaN NaN NaN NaN NaN NaN  ...    NaN    NaN    NaN   \n",
      "15375  inactive NaN NaN NaN NaN NaN NaN NaN NaN NaN  ...    NaN    NaN    NaN   \n",
      "\n",
      "        5402   5403   5404   5405   5406   5407   5408  \n",
      "2        NaN    NaN    NaN    NaN    NaN    NaN    NaN  \n",
      "16    -0.013  0.006 -0.035 -0.012 -0.011  0.008  0.026  \n",
      "187   -0.008  0.008 -0.028 -0.011 -0.009  0.010  0.020  \n",
      "189    0.021  0.024  0.024 -0.010  0.007  0.009 -0.010  \n",
      "191   -0.025 -0.002 -0.055 -0.011 -0.016  0.007  0.040  \n",
      "...      ...    ...    ...    ...    ...    ...    ...  \n",
      "15371    NaN    NaN    NaN    NaN    NaN    NaN    NaN  \n",
      "15372    NaN    NaN    NaN    NaN    NaN    NaN    NaN  \n",
      "15373    NaN    NaN    NaN    NaN    NaN    NaN    NaN  \n",
      "15374    NaN    NaN    NaN    NaN    NaN    NaN    NaN  \n",
      "15375    NaN    NaN    NaN    NaN    NaN    NaN    NaN  \n",
      "\n",
      "[180 rows x 5409 columns]\n"
     ]
    }
   ],
   "source": [
    "# 查看哪些行含有空值\n",
    "rows_with_nan = data[data.isnull().any(axis=1)]\n",
    "\n",
    "print(rows_with_nan)"
   ]
  },
  {
   "cell_type": "code",
   "execution_count": 50,
   "id": "778a18e0-be67-4c3a-897c-6e80e5cbd9de",
   "metadata": {},
   "outputs": [
    {
     "name": "stdout",
     "output_type": "stream",
     "text": [
      "[2, 16, 187, 189, 191, 192, 193, 201, 301, 402, 504, 703, 807, 1006, 1009, 1044, 1071, 1081, 1220, 1281, 1310, 1323, 1342, 1408, 1504, 1506, 1509, 1512, 1514, 1609, 1716, 1788, 1914, 2019, 2067, 2081, 2115, 2203, 2221, 2307, 2322, 2420, 2423, 2458, 2461, 2514, 2516, 2519, 2524, 2585, 2586, 2599, 2616, 2632, 2636, 2668, 2693, 2827, 2938, 2950, 3193, 3324, 3325, 3432, 3516, 3527, 3530, 3534, 3565, 3592, 3736, 3828, 3919, 4038, 4342, 4420, 4544, 4746, 4948, 5047, 5251, 5259, 5373, 5554, 5756, 6184, 6875, 6948, 6964, 7176, 7334, 7469, 7480, 7507, 7526, 7735, 7824, 7825, 7837, 7839, 7988, 8007, 8107, 8126, 8297, 9236, 9239, 9330, 9344, 9349, 9356, 9372, 9376, 9380, 9392, 9396, 9421, 9426, 9429, 9434, 9447, 9697, 9700, 9709, 9951, 10035, 10189, 10190, 10274, 10319, 10323, 10350, 10451, 10466, 10485, 10504, 10636, 10700, 11934, 11940, 12143, 13017, 13036, 13207, 13687, 13908, 14277, 14278, 14866, 15189, 15265, 15347, 15348, 15349, 15350, 15351, 15352, 15353, 15354, 15355, 15356, 15357, 15358, 15359, 15360, 15361, 15362, 15363, 15364, 15365, 15366, 15367, 15368, 15369, 15370, 15371, 15372, 15373, 15374, 15375]\n"
     ]
    }
   ],
   "source": [
    "# 只查看含空值的行索引\n",
    "miss_list = data[data.isnull().any(axis=1)].index.tolist()\n",
    "print(data[data.isnull().any(axis=1)].index.tolist())"
   ]
  },
  {
   "cell_type": "code",
   "execution_count": 51,
   "id": "7af3baab-37ea-4876-a381-ef2a7310c771",
   "metadata": {},
   "outputs": [],
   "source": [
    "# 直接删掉含缺失值的数据\n",
    "data.dropna(inplace=True)"
   ]
  },
  {
   "cell_type": "code",
   "execution_count": 57,
   "id": "e28b1fc4-b03b-4adf-b99d-6cc74d1d6e19",
   "metadata": {},
   "outputs": [
    {
     "name": "stdout",
     "output_type": "stream",
     "text": [
      "数据维度: (16592, 5409)\n",
      "缺失值个数:0\n"
     ]
    }
   ],
   "source": [
    "print(f\"数据维度: {data.shape}\")\n",
    "print(f\"缺失值个数:{data.isna().sum().sum()}\")"
   ]
  },
  {
   "cell_type": "code",
   "execution_count": 59,
   "id": "7dbfe318-d954-45f7-8cb2-4fa6deb41c68",
   "metadata": {},
   "outputs": [
    {
     "name": "stdout",
     "output_type": "stream",
     "text": [
      "\n",
      "唯一值统计：\n",
      "Class\n",
      "inactive    16449\n",
      "active        143\n",
      "Name: count, dtype: int64\n"
     ]
    }
   ],
   "source": [
    "print(\"\\n 唯一值统计：\")\n",
    "print(data['Class'].value_counts(dropna=False))"
   ]
  },
  {
   "cell_type": "code",
   "execution_count": 60,
   "id": "a3bb032f-d32b-40ab-b581-0149dec6881c",
   "metadata": {},
   "outputs": [
    {
     "name": "stdout",
     "output_type": "stream",
     "text": [
      "数据保存到：C:\\Users\\26494\\GA\\data\\p53_Mutants/p53_Mutants.csv\n"
     ]
    }
   ],
   "source": [
    "# 保存\n",
    "data.to_csv(p53_data_path)\n",
    "\n",
    "print(f\"数据保存到：{p53_data_path}\")"
   ]
  },
  {
   "cell_type": "code",
   "execution_count": null,
   "id": "5ce91012-6821-4455-bf8f-88c38ad7fbc8",
   "metadata": {},
   "outputs": [],
   "source": []
  }
 ],
 "metadata": {
  "kernelspec": {
   "display_name": "Python [conda env:base] *",
   "language": "python",
   "name": "conda-base-py"
  },
  "language_info": {
   "codemirror_mode": {
    "name": "ipython",
    "version": 3
   },
   "file_extension": ".py",
   "mimetype": "text/x-python",
   "name": "python",
   "nbconvert_exporter": "python",
   "pygments_lexer": "ipython3",
   "version": "3.12.7"
  }
 },
 "nbformat": 4,
 "nbformat_minor": 5
}
