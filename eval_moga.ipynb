{
 "cells": [
  {
   "cell_type": "code",
   "execution_count": null,
   "id": "87afb0e5-c6c5-48cb-afa6-36e7b35b6c8f",
   "metadata": {},
   "outputs": [],
   "source": [
    "from main import moga_process"
   ]
  },
  {
   "cell_type": "code",
   "execution_count": null,
   "id": "9b57de38-04ea-4f25-a418-f62bd6d22c37",
   "metadata": {},
   "outputs": [],
   "source": [
    "from utils import set_logger\n",
    "set_logger()"
   ]
  },
  {
   "cell_type": "code",
   "execution_count": null,
   "id": "1114adbe-c41d-45c8-a3d5-7cf586fd4756",
   "metadata": {},
   "outputs": [],
   "source": [
    "from utils import load_config\n",
    "arrhythmia_args = load_config(\"./config/arrhythmia_config.yaml\")\n",
    "p53_mutants_args = load_config(\"./config/p53_mutants_config.yaml\")\n",
    "breast_cancer_args = load_config(\"./config/breast_cancer_config.yaml\")"
   ]
  },
  {
   "cell_type": "code",
   "execution_count": null,
   "id": "7cdf8c79-1d3b-4d15-9f3e-729b433cbe85",
   "metadata": {
    "scrolled": true
   },
   "outputs": [],
   "source": [
    "moga_process(arrhythmia_args)"
   ]
  }
 ],
 "metadata": {
  "kernelspec": {
   "display_name": "Python 3 (ipykernel)",
   "language": "python",
   "name": "python3"
  },
  "language_info": {
   "codemirror_mode": {
    "name": "ipython",
    "version": 3
   },
   "file_extension": ".py",
   "mimetype": "text/x-python",
   "name": "python",
   "nbconvert_exporter": "python",
   "pygments_lexer": "ipython3",
   "version": "3.10.8"
  }
 },
 "nbformat": 4,
 "nbformat_minor": 5
}
