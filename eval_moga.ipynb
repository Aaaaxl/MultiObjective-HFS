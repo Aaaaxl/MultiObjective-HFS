{
 "cells": [
  {
   "cell_type": "code",
   "execution_count": null,
   "id": "87afb0e5-c6c5-48cb-afa6-36e7b35b6c8f",
   "metadata": {},
   "outputs": [],
   "source": [
    "from moga_process import *"
   ]
  },
  {
   "cell_type": "code",
   "execution_count": null,
   "id": "9b57de38-04ea-4f25-a418-f62bd6d22c37",
   "metadata": {},
   "outputs": [],
   "source": [
    "from config import arrhythmia_data_path\n",
    "from utils import set_logger"
   ]
  },
  {
   "cell_type": "code",
   "execution_count": null,
   "id": "b698a161-3072-45cc-adc4-4bca4d6f77cf",
   "metadata": {},
   "outputs": [],
   "source": [
    "from xgboost import XGBClassifier\n",
    "from sklearn.svm import LinearSVC"
   ]
  },
  {
   "cell_type": "code",
   "execution_count": null,
   "id": "7f659074-5d88-4f11-947c-39285316ca7c",
   "metadata": {},
   "outputs": [],
   "source": [
    "set_logger()"
   ]
  },
  {
   "cell_type": "code",
   "execution_count": null,
   "id": "a18a8f8a-9870-4f13-8181-766e84ca5783",
   "metadata": {},
   "outputs": [],
   "source": [
    "data_path = arrhythmia_data_path\n",
    "results_data_dir = '/root/GA/arrhythmia_results_moga'\n",
    "min_features = 2\n",
    "max_features = 50\n",
    "feature_n_config = list(range(2, 51))\n",
    "\n",
    "random_states = [42, 123, 256, 114514, 3407, 5132, 5134, 5122, 5106, 1163]\n",
    "\n",
    "cv_mode = \"kfold\"\n",
    "cv_k = 5\n",
    "n_max = max_features\n",
    "n_gen = 1\n",
    "pop_size = 200\n",
    "fs_prob = 1.25\n",
    "\n",
    "fitness_evaluator_name = \"linearsvm\"\n",
    "fitness_evaluator_obj = LinearSVC(max_iter=10000, dual=True, random_state=random_state)\n",
    "fitness_target_metric = \"test_f1_macro\"\n",
    "\n",
    "fs_distrib = {\n",
    "    \"mrmr\": 0.125,\n",
    "    \"relieff\": 0.125,\n",
    "    \"kruskalwallis\": 0.125,\n",
    "    \"mutualinfo\": 0.125,\n",
    "    \"decisiontree\": 0.125,\n",
    "    \"anovafvalue\": 0.125,\n",
    "    \"randomforest\": 0.125,\n",
    "    \"lassocv\": 0.125,\n",
    "}\n",
    "\n",
    "clfs = {\"linearsvm\": LinearSVC(max_iter=10000, dual=True, random_state=random_state)}\n",
    "target_metric = \"test_f1_macro\""
   ]
  },
  {
   "cell_type": "code",
   "execution_count": null,
   "id": "7cdf8c79-1d3b-4d15-9f3e-729b433cbe85",
   "metadata": {},
   "outputs": [],
   "source": [
    "experiment_process(data_path, results_data_dir,\n",
    "                       min_features, max_features, feature_n_config,\n",
    "                       cv_mode, cv_k,\n",
    "                       n_gen, pop_size, fs_prob, fs_distrib,\n",
    "                       fitness_evaluator_name, fitness_evaluator_obj, fitness_target_metric,\n",
    "                       clfs, target_metric, random_states)"
   ]
  }
 ],
 "metadata": {
  "kernelspec": {
   "display_name": "Python 3 (ipykernel)",
   "language": "python",
   "name": "python3"
  },
  "language_info": {
   "codemirror_mode": {
    "name": "ipython",
    "version": 3
   },
   "file_extension": ".py",
   "mimetype": "text/x-python",
   "name": "python",
   "nbconvert_exporter": "python",
   "pygments_lexer": "ipython3",
   "version": "3.10.8"
  }
 },
 "nbformat": 4,
 "nbformat_minor": 5
}
