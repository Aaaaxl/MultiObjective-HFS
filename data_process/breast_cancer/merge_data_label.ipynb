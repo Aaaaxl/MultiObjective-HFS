{
 "cells": [
  {
   "cell_type": "code",
   "execution_count": 1,
   "id": "e0b989c8-f309-474c-b191-0ab9f860d19c",
   "metadata": {},
   "outputs": [],
   "source": [
    "import gzip\n",
    "import re\n",
    "import sys\n",
    "import os\n",
    "import pandas as pd"
   ]
  },
  {
   "cell_type": "code",
   "execution_count": 2,
   "id": "b1627861-703e-4a00-b4ae-97fe6fecd68d",
   "metadata": {},
   "outputs": [],
   "source": [
    "def add_project_root_to_sys_path(target_file=\"config.py\"):\n",
    "    current_path = os.getcwd()\n",
    "    while True:\n",
    "        if target_file in os.listdir(current_path):\n",
    "            # 找到包含 config.py 的目录，加入 sys.path\n",
    "            if current_path not in sys.path:\n",
    "                sys.path.append(current_path)\n",
    "            break\n",
    "        else:\n",
    "            # 向上一级目录查找\n",
    "            parent_path = os.path.dirname(current_path)\n",
    "            if parent_path == current_path:\n",
    "                # 到达根目录还没找到，停止\n",
    "                raise FileNotFoundError(f\"未找到包含 {target_file} 的目录\")\n",
    "            current_path = parent_path\n",
    "\n",
    "add_project_root_to_sys_path()"
   ]
  },
  {
   "cell_type": "code",
   "execution_count": 3,
   "id": "b3d34ecd-8ed6-4554-8490-5ed25c51d1ab",
   "metadata": {},
   "outputs": [],
   "source": [
    "from config import breast_expression_gene, breast_data_path, breast_raw_data_path"
   ]
  },
  {
   "cell_type": "code",
   "execution_count": 4,
   "id": "19cb4a8e-79b8-46c3-80b9-f9861b08a7e6",
   "metadata": {},
   "outputs": [
    {
     "name": "stderr",
     "output_type": "stream",
     "text": [
      "<>:1: SyntaxWarning: invalid escape sequence '\\G'\n",
      "<>:1: SyntaxWarning: invalid escape sequence '\\G'\n",
      "C:\\Users\\26494\\AppData\\Local\\Temp\\ipykernel_20040\\4270682476.py:1: SyntaxWarning: invalid escape sequence '\\G'\n",
      "  label_path = breast_raw_data_path + '\\GSE70947_series_matrix.txt.gz'\n"
     ]
    }
   ],
   "source": [
    "label_path = breast_raw_data_path + '\\GSE70947_series_matrix.txt.gz'\n",
    "\n",
    "expr_gene = pd.read_csv(breast_expression_gene, index_col=0)"
   ]
  },
  {
   "cell_type": "code",
   "execution_count": 5,
   "id": "fa206a33-f368-4dfe-860a-3e7ecac2e531",
   "metadata": {},
   "outputs": [],
   "source": [
    "# 读取 series matrix\n",
    "with gzip.open(label_path, \"rt\", encoding=\"utf-8\") as f:\n",
    "    lines = f.readlines()\n",
    "    \n",
    "# 提取 GSM 样本ID\n",
    "for line in lines:\n",
    "    if line.startswith(\"!Sample_geo_accession\"):\n",
    "        gsm_ids = line.strip().split(\"\\t\")[1:]\n",
    "        break\n",
    "\n",
    "# 提取 tissue 标签\n",
    "for line in lines:\n",
    "    if line.startswith(\"!Sample_characteristics_ch1\") and \"tissue\" in line:\n",
    "        tissue_labels = [re.sub(r\"tissue: ?\", \"\", x) for x in line.strip().split(\"\\t\")[1:]]\n",
    "        break"
   ]
  },
  {
   "cell_type": "code",
   "execution_count": 6,
   "id": "cf69edcb-5fdf-48e2-a538-f9a12e9a6b46",
   "metadata": {},
   "outputs": [
    {
     "name": "stdout",
     "output_type": "stream",
     "text": [
      "                 Class\n",
      "\"GSM1823702\"  \"normal\"\n",
      "\"GSM1823703\"  \"normal\"\n",
      "\"GSM1823704\"  \"normal\"\n",
      "\"GSM1823705\"  \"normal\"\n",
      "\"GSM1823706\"  \"normal\"\n"
     ]
    }
   ],
   "source": [
    "# 标签信息表\n",
    "sample_info = pd.DataFrame({\"Class\": tissue_labels}, index=gsm_ids)\n",
    "print(sample_info.head())"
   ]
  },
  {
   "cell_type": "code",
   "execution_count": 7,
   "id": "4b1a7cfc-a11d-4951-b384-7b216b84dfd7",
   "metadata": {},
   "outputs": [
    {
     "name": "stdout",
     "output_type": "stream",
     "text": [
      "表达矩阵样本数： 296\n",
      "标签表样本数： 296\n",
      "交集样本数： 0\n"
     ]
    }
   ],
   "source": [
    "print(\"表达矩阵样本数：\", expr_gene.shape[0])\n",
    "print(\"标签表样本数：\", sample_info.shape[0])\n",
    "print(\"交集样本数：\", len(set(expr_gene.index) & set(sample_info.index)))"
   ]
  },
  {
   "cell_type": "code",
   "execution_count": 8,
   "id": "860c5b73-133d-4584-a3b8-9ed5bcd168f9",
   "metadata": {},
   "outputs": [
    {
     "name": "stdout",
     "output_type": "stream",
     "text": [
      "表达矩阵前10个样本名： ['GSM1823702', 'GSM1823703', 'GSM1823704', 'GSM1823705', 'GSM1823706', 'GSM1823707', 'GSM1823708', 'GSM1823709', 'GSM1823710', 'GSM1823711']\n",
      "标签表前10个样本名： ['\"GSM1823702\"', '\"GSM1823703\"', '\"GSM1823704\"', '\"GSM1823705\"', '\"GSM1823706\"', '\"GSM1823707\"', '\"GSM1823708\"', '\"GSM1823709\"', '\"GSM1823710\"', '\"GSM1823711\"']\n"
     ]
    }
   ],
   "source": [
    "print(\"表达矩阵前10个样本名：\", expr_gene.index[:10].tolist())\n",
    "print(\"标签表前10个样本名：\", sample_info.index[:10].tolist())"
   ]
  },
  {
   "cell_type": "code",
   "execution_count": 9,
   "id": "48128e5d-cf08-457e-a3ee-21cc32736ec8",
   "metadata": {},
   "outputs": [],
   "source": [
    "sample_info.index = sample_info.index.str.strip('\"')"
   ]
  },
  {
   "cell_type": "code",
   "execution_count": 10,
   "id": "57b2a89b-5f01-4209-bba4-4851929cf833",
   "metadata": {},
   "outputs": [],
   "source": [
    "# 顺序和表达矩阵一致\n",
    "sample_info = sample_info.reindex(expr_gene.index)\n",
    "# 合并\n",
    "expr_gene[\"Class\"] = sample_info[\"Class\"]"
   ]
  },
  {
   "cell_type": "code",
   "execution_count": 11,
   "id": "805d4b4f-1a9b-4bd2-9d0a-f1ae5ac25eb8",
   "metadata": {},
   "outputs": [
    {
     "name": "stdout",
     "output_type": "stream",
     "text": [
      "               Class\n",
      "GSM1823702  \"normal\"\n",
      "GSM1823703  \"normal\"\n",
      "GSM1823704  \"normal\"\n",
      "GSM1823705  \"normal\"\n",
      "GSM1823706  \"normal\"\n",
      "GSM1823707  \"normal\"\n",
      "GSM1823708  \"normal\"\n",
      "GSM1823709  \"normal\"\n",
      "GSM1823710  \"normal\"\n",
      "GSM1823711  \"normal\"\n"
     ]
    }
   ],
   "source": [
    "print(expr_gene[[\"Class\"]].head(10))"
   ]
  },
  {
   "cell_type": "code",
   "execution_count": 12,
   "id": "8fe55d52-19e2-4073-9f24-fcb57354e8bf",
   "metadata": {},
   "outputs": [],
   "source": [
    "# (可选) 把 Class 列放在第一列\n",
    "cols = [\"Class\"] + [col for col in expr_gene.columns if col != \"Class\"]\n",
    "expr_gene = expr_gene[cols]"
   ]
  },
  {
   "cell_type": "code",
   "execution_count": 14,
   "id": "43f690ed-4db9-491e-90a7-1d659d441d47",
   "metadata": {},
   "outputs": [
    {
     "name": "stdout",
     "output_type": "stream",
     "text": [
      "完成！含 Class 的新表达矩阵已保存：C:\\Users\\26494\\GA\\data\\Breast_Cancer/Breast_Cancer.csv\n"
     ]
    }
   ],
   "source": [
    "# 保存\n",
    "expr_gene.to_csv(breast_data_path, encoding=\"utf_8_sig\")\n",
    "print(f\"完成！含 Class 的新表达矩阵已保存：{breast_data_path}\")"
   ]
  },
  {
   "cell_type": "code",
   "execution_count": null,
   "id": "46b679fc-4faa-40e0-abb5-1b8862c3162c",
   "metadata": {},
   "outputs": [],
   "source": []
  }
 ],
 "metadata": {
  "kernelspec": {
   "display_name": "Python [conda env:base] *",
   "language": "python",
   "name": "conda-base-py"
  },
  "language_info": {
   "codemirror_mode": {
    "name": "ipython",
    "version": 3
   },
   "file_extension": ".py",
   "mimetype": "text/x-python",
   "name": "python",
   "nbconvert_exporter": "python",
   "pygments_lexer": "ipython3",
   "version": "3.12.7"
  }
 },
 "nbformat": 4,
 "nbformat_minor": 5
}
