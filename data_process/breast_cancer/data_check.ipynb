{
 "cells": [
  {
   "cell_type": "code",
   "execution_count": 1,
   "id": "6a441fa2-14e5-4f60-ad3d-922f627d3f3d",
   "metadata": {},
   "outputs": [],
   "source": [
    "import pandas as pd\n",
    "import os\n",
    "import sys"
   ]
  },
  {
   "cell_type": "code",
   "execution_count": 2,
   "id": "0abd6ded-bd1d-4fd7-a44d-fa8c5f20d9f7",
   "metadata": {},
   "outputs": [],
   "source": [
    "def add_project_root_to_sys_path(target_file=\"config.py\"):\n",
    "    current_path = os.getcwd()\n",
    "    while True:\n",
    "        if target_file in os.listdir(current_path):\n",
    "            # 找到包含 config.py 的目录，加入 sys.path\n",
    "            if current_path not in sys.path:\n",
    "                sys.path.append(current_path)\n",
    "            break\n",
    "        else:\n",
    "            # 向上一级目录查找\n",
    "            parent_path = os.path.dirname(current_path)\n",
    "            if parent_path == current_path:\n",
    "                # 到达根目录还没找到，停止\n",
    "                raise FileNotFoundError(f\"未找到包含 {target_file} 的目录\")\n",
    "            current_path = parent_path\n",
    "\n",
    "add_project_root_to_sys_path()"
   ]
  },
  {
   "cell_type": "code",
   "execution_count": 3,
   "id": "165cb6de-a25c-4d52-a333-68cfe08a3879",
   "metadata": {},
   "outputs": [],
   "source": [
    "from config import breast_data_path"
   ]
  },
  {
   "cell_type": "code",
   "execution_count": 4,
   "id": "1499ddb1-c4ee-422f-b086-34df27237ec4",
   "metadata": {},
   "outputs": [
    {
     "name": "stdout",
     "output_type": "stream",
     "text": [
      "(296, 34950)\n"
     ]
    },
    {
     "data": {
      "text/html": [
       "<div>\n",
       "<style scoped>\n",
       "    .dataframe tbody tr th:only-of-type {\n",
       "        vertical-align: middle;\n",
       "    }\n",
       "\n",
       "    .dataframe tbody tr th {\n",
       "        vertical-align: top;\n",
       "    }\n",
       "\n",
       "    .dataframe thead th {\n",
       "        text-align: right;\n",
       "    }\n",
       "</style>\n",
       "<table border=\"1\" class=\"dataframe\">\n",
       "  <thead>\n",
       "    <tr style=\"text-align: right;\">\n",
       "      <th></th>\n",
       "      <th>Class</th>\n",
       "      <th>3xSLv1</th>\n",
       "      <th>A1BG</th>\n",
       "      <th>A1CF</th>\n",
       "      <th>A2BP1</th>\n",
       "      <th>A2LD1</th>\n",
       "      <th>A2M</th>\n",
       "      <th>A2ML1</th>\n",
       "      <th>A4GALT</th>\n",
       "      <th>A4GNT</th>\n",
       "      <th>...</th>\n",
       "      <th>tcag7.1213</th>\n",
       "      <th>tcag7.1227</th>\n",
       "      <th>tcag7.1231</th>\n",
       "      <th>tcag7.1239</th>\n",
       "      <th>tcag7.1307</th>\n",
       "      <th>tcag7.873</th>\n",
       "      <th>tcag7.893</th>\n",
       "      <th>tcag7.907</th>\n",
       "      <th>tcag7.929</th>\n",
       "      <th>tcag7.967</th>\n",
       "    </tr>\n",
       "  </thead>\n",
       "  <tbody>\n",
       "    <tr>\n",
       "      <th>GSM1823702</th>\n",
       "      <td>\"normal\"</td>\n",
       "      <td>4.859722</td>\n",
       "      <td>535.5167</td>\n",
       "      <td>5.940460</td>\n",
       "      <td>5.685579</td>\n",
       "      <td>227.1913</td>\n",
       "      <td>46960.871</td>\n",
       "      <td>4.702429</td>\n",
       "      <td>4558.7640</td>\n",
       "      <td>3.904452</td>\n",
       "      <td>...</td>\n",
       "      <td>4.742049</td>\n",
       "      <td>77.00769</td>\n",
       "      <td>11.876750</td>\n",
       "      <td>5.323616</td>\n",
       "      <td>3.944951</td>\n",
       "      <td>785.1401</td>\n",
       "      <td>3.993938</td>\n",
       "      <td>680.089880</td>\n",
       "      <td>18.29971</td>\n",
       "      <td>4.068957</td>\n",
       "    </tr>\n",
       "    <tr>\n",
       "      <th>GSM1823703</th>\n",
       "      <td>\"normal\"</td>\n",
       "      <td>12.525190</td>\n",
       "      <td>3634.7940</td>\n",
       "      <td>38.023283</td>\n",
       "      <td>44.408785</td>\n",
       "      <td>1052.6500</td>\n",
       "      <td>156432.520</td>\n",
       "      <td>78.048350</td>\n",
       "      <td>5997.5070</td>\n",
       "      <td>39.178900</td>\n",
       "      <td>...</td>\n",
       "      <td>14.290600</td>\n",
       "      <td>203.44990</td>\n",
       "      <td>30.602930</td>\n",
       "      <td>13.409350</td>\n",
       "      <td>11.023760</td>\n",
       "      <td>1420.9130</td>\n",
       "      <td>34.061760</td>\n",
       "      <td>960.099533</td>\n",
       "      <td>10.69652</td>\n",
       "      <td>22.900090</td>\n",
       "    </tr>\n",
       "    <tr>\n",
       "      <th>GSM1823704</th>\n",
       "      <td>\"normal\"</td>\n",
       "      <td>7.037224</td>\n",
       "      <td>886.0996</td>\n",
       "      <td>42.813183</td>\n",
       "      <td>14.550340</td>\n",
       "      <td>578.2714</td>\n",
       "      <td>84857.218</td>\n",
       "      <td>30.520820</td>\n",
       "      <td>7849.2175</td>\n",
       "      <td>8.567911</td>\n",
       "      <td>...</td>\n",
       "      <td>26.760020</td>\n",
       "      <td>181.58060</td>\n",
       "      <td>35.656970</td>\n",
       "      <td>32.158410</td>\n",
       "      <td>7.739424</td>\n",
       "      <td>1120.7720</td>\n",
       "      <td>17.378000</td>\n",
       "      <td>1025.388667</td>\n",
       "      <td>59.07267</td>\n",
       "      <td>16.509710</td>\n",
       "    </tr>\n",
       "    <tr>\n",
       "      <th>GSM1823705</th>\n",
       "      <td>\"normal\"</td>\n",
       "      <td>3.741905</td>\n",
       "      <td>365.2933</td>\n",
       "      <td>3.697340</td>\n",
       "      <td>4.955665</td>\n",
       "      <td>354.3489</td>\n",
       "      <td>39616.956</td>\n",
       "      <td>3.332520</td>\n",
       "      <td>2611.2865</td>\n",
       "      <td>5.401225</td>\n",
       "      <td>...</td>\n",
       "      <td>3.832760</td>\n",
       "      <td>90.68363</td>\n",
       "      <td>8.613266</td>\n",
       "      <td>25.701110</td>\n",
       "      <td>9.710713</td>\n",
       "      <td>1627.9210</td>\n",
       "      <td>3.784242</td>\n",
       "      <td>648.263370</td>\n",
       "      <td>34.03004</td>\n",
       "      <td>3.078217</td>\n",
       "    </tr>\n",
       "    <tr>\n",
       "      <th>GSM1823706</th>\n",
       "      <td>\"normal\"</td>\n",
       "      <td>5.362853</td>\n",
       "      <td>896.8543</td>\n",
       "      <td>6.245011</td>\n",
       "      <td>4.173715</td>\n",
       "      <td>310.1026</td>\n",
       "      <td>40687.011</td>\n",
       "      <td>3.996803</td>\n",
       "      <td>3422.1065</td>\n",
       "      <td>3.836926</td>\n",
       "      <td>...</td>\n",
       "      <td>13.636010</td>\n",
       "      <td>137.99170</td>\n",
       "      <td>18.222570</td>\n",
       "      <td>16.796520</td>\n",
       "      <td>3.679105</td>\n",
       "      <td>2003.5570</td>\n",
       "      <td>4.006230</td>\n",
       "      <td>1322.833043</td>\n",
       "      <td>37.49563</td>\n",
       "      <td>3.795162</td>\n",
       "    </tr>\n",
       "  </tbody>\n",
       "</table>\n",
       "<p>5 rows × 34950 columns</p>\n",
       "</div>"
      ],
      "text/plain": [
       "               Class     3xSLv1       A1BG       A1CF      A2BP1      A2LD1  \\\n",
       "GSM1823702  \"normal\"   4.859722   535.5167   5.940460   5.685579   227.1913   \n",
       "GSM1823703  \"normal\"  12.525190  3634.7940  38.023283  44.408785  1052.6500   \n",
       "GSM1823704  \"normal\"   7.037224   886.0996  42.813183  14.550340   578.2714   \n",
       "GSM1823705  \"normal\"   3.741905   365.2933   3.697340   4.955665   354.3489   \n",
       "GSM1823706  \"normal\"   5.362853   896.8543   6.245011   4.173715   310.1026   \n",
       "\n",
       "                   A2M      A2ML1     A4GALT      A4GNT  ...  tcag7.1213  \\\n",
       "GSM1823702   46960.871   4.702429  4558.7640   3.904452  ...    4.742049   \n",
       "GSM1823703  156432.520  78.048350  5997.5070  39.178900  ...   14.290600   \n",
       "GSM1823704   84857.218  30.520820  7849.2175   8.567911  ...   26.760020   \n",
       "GSM1823705   39616.956   3.332520  2611.2865   5.401225  ...    3.832760   \n",
       "GSM1823706   40687.011   3.996803  3422.1065   3.836926  ...   13.636010   \n",
       "\n",
       "            tcag7.1227  tcag7.1231  tcag7.1239  tcag7.1307  tcag7.873  \\\n",
       "GSM1823702    77.00769   11.876750    5.323616    3.944951   785.1401   \n",
       "GSM1823703   203.44990   30.602930   13.409350   11.023760  1420.9130   \n",
       "GSM1823704   181.58060   35.656970   32.158410    7.739424  1120.7720   \n",
       "GSM1823705    90.68363    8.613266   25.701110    9.710713  1627.9210   \n",
       "GSM1823706   137.99170   18.222570   16.796520    3.679105  2003.5570   \n",
       "\n",
       "            tcag7.893    tcag7.907  tcag7.929  tcag7.967  \n",
       "GSM1823702   3.993938   680.089880   18.29971   4.068957  \n",
       "GSM1823703  34.061760   960.099533   10.69652  22.900090  \n",
       "GSM1823704  17.378000  1025.388667   59.07267  16.509710  \n",
       "GSM1823705   3.784242   648.263370   34.03004   3.078217  \n",
       "GSM1823706   4.006230  1322.833043   37.49563   3.795162  \n",
       "\n",
       "[5 rows x 34950 columns]"
      ]
     },
     "execution_count": 4,
     "metadata": {},
     "output_type": "execute_result"
    }
   ],
   "source": [
    "df = pd.read_csv(breast_data_path, index_col=0)\n",
    "print(df.shape)\n",
    "df.head()"
   ]
  },
  {
   "cell_type": "code",
   "execution_count": 5,
   "id": "29325ede-4aaf-4a02-8efc-590ca414f482",
   "metadata": {},
   "outputs": [
    {
     "name": "stdout",
     "output_type": "stream",
     "text": [
      "数据类型：\n",
      " Class      object\n",
      "3xSLv1    float64\n",
      "A1BG      float64\n",
      "A1CF      float64\n",
      "A2BP1     float64\n",
      "dtype: object\n",
      "是否有缺失值： 0\n"
     ]
    }
   ],
   "source": [
    "print(\"数据类型：\\n\", df.dtypes[:5])\n",
    "print(\"是否有缺失值：\", df.isna().sum().sum())"
   ]
  },
  {
   "cell_type": "code",
   "execution_count": 6,
   "id": "b9e6f1bf-6c29-406a-9b87-422056f632d1",
   "metadata": {},
   "outputs": [
    {
     "name": "stdout",
     "output_type": "stream",
     "text": [
      "前5个样本名： Index(['GSM1823702', 'GSM1823703', 'GSM1823704', 'GSM1823705', 'GSM1823706'], dtype='object')\n",
      "前5个基因名： Index(['Class', '3xSLv1', 'A1BG', 'A1CF', 'A2BP1'], dtype='object')\n"
     ]
    }
   ],
   "source": [
    "print(\"前5个样本名：\", df.index[:5])\n",
    "print(\"前5个基因名：\", df.columns[:5])"
   ]
  },
  {
   "cell_type": "code",
   "execution_count": 7,
   "id": "c4a840ca-972b-43b8-ad42-6abf7db38011",
   "metadata": {},
   "outputs": [
    {
     "name": "stdout",
     "output_type": "stream",
     "text": [
      "['GSM1823702', 'GSM1823703', 'GSM1823704', 'GSM1823705', 'GSM1823706', 'GSM1823707', 'GSM1823708', 'GSM1823709', 'GSM1823710', 'GSM1823711']\n"
     ]
    }
   ],
   "source": [
    "row_names = df.index.tolist()\n",
    "print(row_names[:10])"
   ]
  },
  {
   "cell_type": "code",
   "execution_count": 9,
   "id": "076a2ada-21f3-45cf-803f-c56133c49a71",
   "metadata": {},
   "outputs": [
    {
     "name": "stdout",
     "output_type": "stream",
     "text": [
      "Class\n",
      "\"normal\"    148\n",
      "\"tumor\"     148\n",
      "Name: count, dtype: int64\n",
      "GSM1823702    \"normal\"\n",
      "GSM1823703    \"normal\"\n",
      "GSM1823704    \"normal\"\n",
      "GSM1823705    \"normal\"\n",
      "GSM1823706    \"normal\"\n",
      "GSM1823707    \"normal\"\n",
      "GSM1823708    \"normal\"\n",
      "GSM1823709    \"normal\"\n",
      "GSM1823710    \"normal\"\n",
      "GSM1823711    \"normal\"\n",
      "Name: Class, dtype: object\n"
     ]
    }
   ],
   "source": [
    "# 检查 Class 列\n",
    "print(df[\"Class\"].value_counts())\n",
    "print(df[\"Class\"].head(10))"
   ]
  },
  {
   "cell_type": "code",
   "execution_count": 10,
   "id": "93f74979-3e56-4daf-9d66-278d1cf7caaa",
   "metadata": {},
   "outputs": [
    {
     "name": "stdout",
     "output_type": "stream",
     "text": [
      "Class 列缺失值数： 0\n"
     ]
    }
   ],
   "source": [
    "print(\"Class 列缺失值数：\", df[\"Class\"].isna().sum())"
   ]
  },
  {
   "cell_type": "code",
   "execution_count": null,
   "id": "b4a7accb-48d0-4995-a3b7-b23ffdbe8e55",
   "metadata": {},
   "outputs": [],
   "source": []
  }
 ],
 "metadata": {
  "kernelspec": {
   "display_name": "Python [conda env:base] *",
   "language": "python",
   "name": "conda-base-py"
  },
  "language_info": {
   "codemirror_mode": {
    "name": "ipython",
    "version": 3
   },
   "file_extension": ".py",
   "mimetype": "text/x-python",
   "name": "python",
   "nbconvert_exporter": "python",
   "pygments_lexer": "ipython3",
   "version": "3.12.7"
  }
 },
 "nbformat": 4,
 "nbformat_minor": 5
}
